{
 "cells": [
  {
   "cell_type": "markdown",
   "metadata": {},
   "source": [
    "# CMT2idagrn\n",
    "\n",
    "Reads GCMT events and builds evt_######## files which are input to idagrn to make synthetic seismograms\n",
    "\n",
    "##### JBR - 2/7/18"
   ]
  },
  {
   "cell_type": "code",
   "execution_count": 13,
   "metadata": {},
   "outputs": [
    {
     "name": "stdout",
     "output_type": "stream",
     "text": [
      "The autoreload extension is already loaded. To reload it, use:\n",
      "  %reload_ext autoreload\n"
     ]
    }
   ],
   "source": [
    "%load_ext autoreload\n",
    "%autoreload\n",
    "from setup_parameters import *\n",
    "import matplotlib.pyplot as plt\n",
    "import obspy\n",
    "from obspy.clients.fdsn import Client\n",
    "from obspy import UTCDateTime\n",
    "from obspy.core import AttribDict\n",
    "from obspy.io.sac import SACTrace\n",
    "from obspy import read\n",
    "import numpy as np\n",
    "import matplotlib.pylab as plt\n",
    "%matplotlib inline\n",
    "from datetime import datetime\n",
    "import os\n",
    "import calendar"
   ]
  },
  {
   "cell_type": "code",
   "execution_count": 14,
   "metadata": {},
   "outputs": [
    {
     "name": "stdout",
     "output_type": "stream",
     "text": [
      "FDSN Webservice Client (base url: http://service.iris.edu)\n",
      "Available Services: 'dataselect' (v1.1.5), 'event' (v1.1.8), 'station' (v1.1.32), 'available_event_catalogs', 'available_event_contributors'\n",
      "\n",
      "Use e.g. client.help('dataselect') for the\n",
      "parameter description of the individual services\n",
      "or client.help() for parameter description of\n",
      "all webservices.\n"
     ]
    }
   ],
   "source": [
    "# Load Client\n",
    "client = Client(webservice)\n",
    "print(client)\n",
    "\n",
    "if not os.path.exists(CMT2idagrn_path):\n",
    "    os.makedirs(CMT2idagrn_path)"
   ]
  },
  {
   "cell_type": "code",
   "execution_count": 15,
   "metadata": {},
   "outputs": [
    {
     "name": "stdout",
     "output_type": "stream",
     "text": [
      "11 Event(s) in Catalog:\n",
      "2015-02-27T13:45:05.640000Z |  -7.358, +122.491 | 7.0 MW\n",
      "2015-02-13T18:59:13.510000Z | +52.510,  -32.021 | 7.1 MW\n",
      "2014-11-15T02:31:42.240000Z |  +1.834, +126.463 | 7.0 MW\n",
      "2014-11-09T14:38:15.600000Z | +46.930, +140.630 | 7.6 mb\n",
      "2014-11-01T18:57:22.350000Z | -19.802, -177.833 | 7.1 MW\n",
      "2014-10-14T03:51:37.110000Z | +12.589,  -88.072 | 7.3 MW\n",
      "2014-10-09T02:14:29.740000Z | -32.299, -110.924 | 7.0 MW\n",
      "2014-06-23T20:53:09.930000Z | +51.703, +178.643 | 7.9 MW\n",
      "2014-04-19T13:28:00.720000Z |  -6.708, +154.992 | 7.5 MW\n",
      "2014-04-18T14:27:24.690000Z | +17.321, -100.994 | 7.3 MW\n",
      "2014-04-13T12:36:19.050000Z | -11.467, +161.960 | 7.4 MW\n"
     ]
    }
   ],
   "source": [
    "t1 = UTCDateTime(tstart)\n",
    "t2 = UTCDateTime(tend)\n",
    "\n",
    "# Load IRIS catalogue to get events of interest\n",
    "catIRIS = client.get_events(starttime=t1, endtime=t2, minmagnitude=minmagnitude)\n",
    "print(catIRIS.__str__(print_all=True))"
   ]
  },
  {
   "cell_type": "code",
   "execution_count": 16,
   "metadata": {},
   "outputs": [
    {
     "name": "stdout",
     "output_type": "stream",
     "text": [
      "Working on ./IRIS_YO_7.0/CMT2idagrn/evt_201502271345\n",
      "Working on ./IRIS_YO_7.0/CMT2idagrn/evt_201502131859\n",
      "Working on ./IRIS_YO_7.0/CMT2idagrn/evt_201411150231\n",
      "No focal mechanism for 201411091438\n",
      "Working on ./IRIS_YO_7.0/CMT2idagrn/evt_201411011857\n",
      "Working on ./IRIS_YO_7.0/CMT2idagrn/evt_201410140351\n",
      "Working on ./IRIS_YO_7.0/CMT2idagrn/evt_201410090214\n",
      "Working on ./IRIS_YO_7.0/CMT2idagrn/evt_201406232053\n",
      "Working on ./IRIS_YO_7.0/CMT2idagrn/evt_201404191328\n",
      "Working on ./IRIS_YO_7.0/CMT2idagrn/evt_201404181427\n",
      "Working on ./IRIS_YO_7.0/CMT2idagrn/evt_201404131236\n"
     ]
    }
   ],
   "source": [
    "for iev in range(0,len(catIRIS)) : \n",
    "    # extract date for naming folders\n",
    "    time = catIRIS[iev].origins[0].time\n",
    "    date = datetime.strptime(str(time),'%Y-%m-%dT%H:%M:%S.%fZ')\n",
    "    evname = date.strftime('%Y%m%d%H%M')\n",
    "    month = calendar.month_abbr[date.month].lower()\n",
    "    year = str(date.year)\n",
    "    time1 = str(time-50)\n",
    "    time2 = str(time+50)\n",
    "    catCMT = obspy.read_events(\"https://www.ldeo.columbia.edu/~gcmt/projects/CMT/catalog/NEW_MONTHLY/\"+year+\"/\"+month+\"\"+year[2:4]+\".ndk\")\n",
    "    CMT_ev = catCMT.filter(\"time > \"+time1,\n",
    "                                \"time < \"+time2,\n",
    "                                \"magnitude >= \"+str(minmagnitude-1))\n",
    "    if len(CMT_ev)==0:\n",
    "        print(\"No focal mechanism for \"+evname)\n",
    "        continue\n",
    "    \n",
    "    const = 1e19\n",
    "    scale = 0.1\n",
    "    lat = CMT_ev[0].origins[1].latitude\n",
    "    lon = CMT_ev[0].origins[1].longitude\n",
    "    depth = CMT_ev[0].origins[1].depth\n",
    "    m_rr = CMT_ev[0].focal_mechanisms[0].moment_tensor.tensor.m_rr/const\n",
    "    m_tt = CMT_ev[0].focal_mechanisms[0].moment_tensor.tensor.m_tt/const\n",
    "    m_pp = CMT_ev[0].focal_mechanisms[0].moment_tensor.tensor.m_pp/const\n",
    "    m_rt = CMT_ev[0].focal_mechanisms[0].moment_tensor.tensor.m_rt/const\n",
    "    m_rp = CMT_ev[0].focal_mechanisms[0].moment_tensor.tensor.m_rp/const\n",
    "    m_tp = CMT_ev[0].focal_mechanisms[0].moment_tensor.tensor.m_tp/const\n",
    "    \n",
    "    print('Working on '+CMT2idagrn_path+'evt_'+evname)\n",
    "    f = open(CMT2idagrn_path+'evt_'+evname,'w')\n",
    "    f.write(\"%s\\n%.3f %.3f %.2f\\n%.1f\\n%.5f\\n%.5f\\n%.5f\\n%.5f\\n%.5f\\n%.5f\\n\" % (evname,lat,lon,depth/1000,scale,m_rr,m_tt,m_pp,m_rt,m_rp,m_tp))\n",
    "    f.close()\n",
    "    \n",
    "    \n",
    "    "
   ]
  },
  {
   "cell_type": "code",
   "execution_count": null,
   "metadata": {
    "collapsed": true
   },
   "outputs": [],
   "source": []
  }
 ],
 "metadata": {
  "kernelspec": {
   "display_name": "Python 3",
   "language": "python",
   "name": "python3"
  },
  "language_info": {
   "codemirror_mode": {
    "name": "ipython",
    "version": 3
   },
   "file_extension": ".py",
   "mimetype": "text/x-python",
   "name": "python",
   "nbconvert_exporter": "python",
   "pygments_lexer": "ipython3",
   "version": "3.6.3"
  }
 },
 "nbformat": 4,
 "nbformat_minor": 2
}
