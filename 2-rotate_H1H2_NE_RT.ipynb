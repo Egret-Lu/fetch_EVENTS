{
 "cells": [
  {
   "cell_type": "markdown",
   "metadata": {},
   "source": [
    "# Rotate To R-T\n",
    "Reads in Z-H1-H2 and first rotates to Z-N-E, then to Z-R-T and write out sac file. A left hand convention is assumed where H2 is 90$^{\\circ}$ clockwise from H1, and Z points up. Input instrument azimuths are H1 clockwise of north.\n",
    "\n",
    "### Station orientation file is of the form:\n",
    "STA1 H1-AZI1\n",
    "\n",
    "STA2 H1-AZI2\n",
    "\n",
    "STA3 H1-AZI3\n",
    "\n",
    "...\n",
    "\n",
    "If station is missing from list of orientations, then it is simply skipped.\n",
    "\n",
    "##### JBR - 2/3/18"
   ]
  },
  {
   "cell_type": "code",
   "execution_count": 10,
   "metadata": {},
   "outputs": [
    {
     "name": "stdout",
     "output_type": "stream",
     "text": [
      "The autoreload extension is already loaded. To reload it, use:\n",
      "  %reload_ext autoreload\n"
     ]
    }
   ],
   "source": [
    "%load_ext autoreload\n",
    "%autoreload\n",
    "from setup_parameters import *\n",
    "import numpy as np\n",
    "from obspy import read\n",
    "from obspy.signal.rotate import rotate2zne, rotate_ne_rt\n",
    "import pandas as pd\n",
    "import matplotlib.pylab as plt\n",
    "from obspy.io.sac import SACTrace\n",
    "import os\n",
    "%matplotlib inline"
   ]
  },
  {
   "cell_type": "code",
   "execution_count": 11,
   "metadata": {
    "collapsed": true
   },
   "outputs": [],
   "source": [
    "data_dir = search_dir\n",
    "\n",
    "# Read events\n",
    "evs = pd.read_csv(data_dir+'/evlist.txt',' ',header=None)\n",
    "evs.columns = [\"event\"]\n",
    "\n",
    "# Orientations\n",
    "ori = pd.read_csv(ori_path,' ',header=None)\n",
    "ori.columns = [\"sta\", \"H1azi\"]\n",
    "stas = ori['sta']\n",
    "ori = ori.set_index('sta')"
   ]
  },
  {
   "cell_type": "code",
   "execution_count": 12,
   "metadata": {
    "scrolled": true
   },
   "outputs": [
    {
     "name": "stdout",
     "output_type": "stream",
     "text": [
      "Working on :  201502271345\n",
      "Missing data for station:  C06\n",
      "Working on :  201502131859\n",
      "Missing data for station:  C06\n",
      "Working on :  201411150231\n",
      "Working on :  201411091438\n",
      "Working on :  201411011857\n",
      "Working on :  201410140351\n",
      "Working on :  201410090214\n",
      "Working on :  201406232053\n",
      "Working on :  201404191328\n",
      "Working on :  201404181427\n",
      "Working on :  201404131236\n"
     ]
    }
   ],
   "source": [
    "for iev, event in enumerate(evs['event']):\n",
    "    event = str(event)\n",
    "    evdir = data_dir + event + '/'\n",
    "    print('Working on : ',event)\n",
    "    if iscleandir:\n",
    "        os.system('rm '+evdir + event+'.'+'*'+'.'+'*'+'.'+Tcomp+'.sac')\n",
    "        os.system('rm '+evdir + event+'.'+'*'+'.'+'*'+'.'+Rcomp+'.sac')\n",
    "        os.system('rm '+evdir + event+'.'+'*'+'.'+'*'+'.'+Ncomp+'.sac')\n",
    "        os.system('rm '+evdir + event+'.'+'*'+'.'+'*'+'.'+Ecomp+'.sac')\n",
    "    \n",
    "    for ista, sta in enumerate(stas):\n",
    "        try:\n",
    "            st = read(evdir + event+'.*.'+sta+'.*.sac', debug_headers=True)\n",
    "        except Exception:\n",
    "            print('Missing data for station: ',sta)\n",
    "            continue\n",
    "        H1azi = ori.loc[sta]['H1azi']\n",
    "        for itr in range(0,len(st)):\n",
    "            if st[itr].stats.channel == H1comp:\n",
    "                h1 = st[itr].data\n",
    "            elif st[itr].stats.channel == H2comp:\n",
    "                h2 = st[itr].data\n",
    "            elif st[itr].stats.channel == Zcomp:\n",
    "                z = st[itr].data\n",
    "        ba = st[0].stats.sac.baz\n",
    "        \n",
    "        # Rotate Z-H1-H2 to Z-N-E\n",
    "        traces_zne = rotate2zne(data_1=z , azimuth_1=0, dip_1=-90, \n",
    "                   data_2=h1, azimuth_2=H1azi, dip_2=0, \n",
    "                   data_3=h2, azimuth_3=H1azi+90, dip_3=0)\n",
    "        z2 = traces_zne[0]\n",
    "        n = traces_zne[1]\n",
    "        e = traces_zne[2]\n",
    "        \n",
    "        # Rotate N-E to R-T\n",
    "        traces_rt = rotate_ne_rt(n=n, e=e, ba=ba)\n",
    "        r = traces_rt[0]\n",
    "        t = traces_rt[1]\n",
    "\n",
    "        # Define new data streams\n",
    "        st_bhn = st[0].copy()\n",
    "        st_bhn.stats.channel = Ncomp\n",
    "        st_bhn.data = n\n",
    "        st_bhe = st[0].copy()\n",
    "        st_bhe.stats.channel = Ecomp\n",
    "        st_bhe.data = e\n",
    "        st_bht = st[0].copy()\n",
    "        st_bht.stats.channel = Tcomp\n",
    "        st_bht.data = t\n",
    "        st_bhr = st[0].copy()\n",
    "        st_bhr.stats.channel = Rcomp\n",
    "        st_bhr.data = r\n",
    "\n",
    "        # Remove existing file\n",
    "        if os.path.exists(evdir + event+'.'+network+'.'+sta+'.'+Ncomp+'.sac'):\n",
    "            os.remove(evdir + event+'.'+network+'.'+sta+'.'+Ncomp+'.sac')\n",
    "        if os.path.exists(evdir + event+'.'+network+'.'+sta+'.'+Ecomp+'.sac'):\n",
    "            os.remove(evdir + event+'.'+network+'.'+sta+'.'+Ecomp+'.sac')\n",
    "        if os.path.exists(evdir + event+'.'+network+'.'+sta+'.'+Tcomp+'.sac'):\n",
    "            os.remove(evdir + event+'.'+network+'.'+sta+'.'+Tcomp+'.sac')\n",
    "        if os.path.exists(evdir + event+'.'+network+'.'+sta+'.'+Rcomp+'.sac'):\n",
    "            os.remove(evdir + event+'.'+network+'.'+sta+'.'+Rcomp+'.sac')\n",
    "        \n",
    "        network = st_bhr.stats.network\n",
    "        # Save BHN, BHE, BHR, and BHT\n",
    "        sac_n = SACTrace.from_obspy_trace(st_bhn)\n",
    "        sac_n.write(evdir + event+'.'+network+'.'+sta+'.'+Ncomp+'.sac')\n",
    "        sac_e = SACTrace.from_obspy_trace(st_bhe)\n",
    "        sac_e.write(evdir + event+'.'+network+'.'+sta+'.'+Ecomp+'.sac')\n",
    "        sac_t = SACTrace.from_obspy_trace(st_bht)\n",
    "        sac_t.write(evdir + event+'.'+network+'.'+sta+'.'+Tcomp+'.sac')\n",
    "        sac_r = SACTrace.from_obspy_trace(st_bhr)\n",
    "        sac_r.write(evdir + event+'.'+network+'.'+sta+'.'+Rcomp+'.sac')\n",
    "        \n",
    "#         fmin = 1/100\n",
    "#         fmax = 1/20\n",
    "#         st_bht.filter(\"bandpass\", freqmin=fmin, freqmax=fmax, corners=2, zerophase=True)\n",
    "#         st_bhr.filter(\"bandpass\", freqmin=fmin, freqmax=fmax, corners=2, zerophase=True)\n",
    "#         plt.figure(figsize=(10,5))\n",
    "#         plt.plot(np.arange(0,len(r)), st_bht.data, color=\"red\")\n",
    "#         plt.plot(np.arange(0,len(t)), st_bhr.data, color=\"black\")\n",
    "#         # plt.plot(np.arange(0,len(stLHZ[0].data)), stLHZ[0].data, color=\"blue\")\n",
    "#         plt.xlim(0, 5000)\n",
    "# #         plt.pause(3)\n",
    "#         plt.draw()"
   ]
  },
  {
   "cell_type": "code",
   "execution_count": null,
   "metadata": {
    "collapsed": true
   },
   "outputs": [],
   "source": []
  },
  {
   "cell_type": "code",
   "execution_count": null,
   "metadata": {
    "collapsed": true
   },
   "outputs": [],
   "source": []
  }
 ],
 "metadata": {
  "kernelspec": {
   "display_name": "Python 3",
   "language": "python",
   "name": "python3"
  },
  "language_info": {
   "codemirror_mode": {
    "name": "ipython",
    "version": 3
   },
   "file_extension": ".py",
   "mimetype": "text/x-python",
   "name": "python",
   "nbconvert_exporter": "python",
   "pygments_lexer": "ipython3",
   "version": "3.6.3"
  }
 },
 "nbformat": 4,
 "nbformat_minor": 2
}
